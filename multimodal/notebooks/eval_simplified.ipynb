{
 "cells": [
  {
   "cell_type": "code",
   "execution_count": 1,
   "id": "4db19f0f",
   "metadata": {},
   "outputs": [
    {
     "name": "stdout",
     "output_type": "stream",
     "text": [
      "Jupyter environment detected. Enabling Open3D WebVisualizer.\n",
      "[Open3D INFO] WebRTC GUI backend enabled.\n",
      "[Open3D INFO] WebRTCWindowSystem: HTTP handshake server disabled.\n"
     ]
    }
   ],
   "source": [
    "import os\n",
    "import random\n",
    "import numpy as np\n",
    "import logging\n",
    "import argparse\n",
    "import urllib\n",
    "from glob import glob\n",
    "from os.path import join, exists\n",
    "\n",
    "import torch\n",
    "import torch.backends.cudnn as cudnn\n",
    "import torch.nn.parallel\n",
    "import torch.optim\n",
    "import torch.utils.data\n",
    "import torch.multiprocessing as mp\n",
    "import torch.distributed as dist\n",
    "from util import metric\n",
    "from torch.utils import model_zoo\n",
    "\n",
    "from MinkowskiEngine import SparseTensor\n",
    "from util import config\n",
    "from util.util import export_pointcloud, get_palette, \\\n",
    "    convert_labels_with_palette, visualize_labels, extract_clip_feature\n",
    "from tqdm import tqdm\n",
    "from run.distill import get_model\n",
    "\n",
    "from dataset.label_constants import *\n",
    "from dataset.feature_loader import FusedFeatureLoader, collation_fn_eval_all, collation_fn\n",
    "from dataset.point_loader import Point3DLoader, collation_fn_eval_all"
   ]
  },
  {
   "cell_type": "code",
   "execution_count": 2,
   "id": "6a19143e",
   "metadata": {},
   "outputs": [],
   "source": [
    "def get_logger():\n",
    "    '''Define logger.'''\n",
    "\n",
    "    logger_name = \"main-logger\"\n",
    "    logger_in = logging.getLogger(logger_name)\n",
    "    logger_in.setLevel(logging.DEBUG)\n",
    "    handler = logging.StreamHandler()\n",
    "    fmt = \"[%(asctime)s %(filename)s line %(lineno)d] %(message)s\"\n",
    "    handler.setFormatter(logging.Formatter(fmt))\n",
    "    logger_in.addHandler(handler)\n",
    "    return logger_in"
   ]
  },
  {
   "cell_type": "code",
   "execution_count": 3,
   "id": "ee6ab43c",
   "metadata": {},
   "outputs": [],
   "source": [
    "def extract_text_feature(labelset):\n",
    "    '''extract CLIP text features.'''\n",
    "\n",
    "    # a bit of prompt engineering\n",
    "    print('Use prompt engineering: a XX in a scene')\n",
    "    labelset = [ \"a \" + label + \" in a scene\" for label in labelset]\n",
    "    labelset[-1] = 'other'\n",
    "    text_features = extract_clip_feature(labelset, model_name=\"ViT-L/14@336px\")\n",
    "    \n",
    "    return text_features\n",
    "\n",
    "def precompute_text_related_properties(labelset_name):\n",
    "    '''pre-compute text features, labelset, palette, and mapper.'''\n",
    "\n",
    "    if 'scannet' in labelset_name:\n",
    "        labelset = list(SCANNET_LABELS_20)\n",
    "        labelset[-1] = 'other' # change 'other furniture' to 'other'\n",
    "        palette = get_palette(colormap='scannet')\n",
    "    mapper = None\n",
    "\n",
    "    text_features = extract_text_feature(labelset)\n",
    "    # labelset.append('unknown')\n",
    "    labelset.append('unlabeled')\n",
    "    return text_features, labelset, mapper, palette"
   ]
  },
  {
   "cell_type": "code",
   "execution_count": 4,
   "id": "e0ef5f93",
   "metadata": {},
   "outputs": [],
   "source": [
    "from models.mink_unet import mink_unet as model3D\n",
    "\n",
    "def constructor3d(**kwargs):\n",
    "    model = model3D(**kwargs)\n",
    "    return model\n",
    "\n",
    "\n",
    "class DisNet(torch.nn.Module):\n",
    "    '''3D Sparse UNet for Distillation.'''\n",
    "    def __init__(self):\n",
    "        super(DisNet, self).__init__()\n",
    "        last_dim = 768\n",
    "\n",
    "        # MinkowskiNet for 3D point clouds\n",
    "        net3d = constructor3d(in_channels=3, out_channels=last_dim, D=3, arch=\"MinkUNet18A\")\n",
    "        self.net3d = net3d\n",
    "\n",
    "    def forward(self, sparse_3d):\n",
    "        '''Forward method.'''\n",
    "        return self.net3d(sparse_3d)\n"
   ]
  },
  {
   "cell_type": "code",
   "execution_count": 5,
   "id": "1ac2d945",
   "metadata": {},
   "outputs": [],
   "source": [
    "manual_seed = 1453\n",
    "random.seed(manual_seed)\n",
    "np.random.seed(manual_seed)\n",
    "torch.manual_seed(manual_seed)\n",
    "torch.cuda.manual_seed(manual_seed)\n",
    "torch.cuda.manual_seed_all(manual_seed)"
   ]
  },
  {
   "cell_type": "code",
   "execution_count": 6,
   "id": "321dfefe",
   "metadata": {},
   "outputs": [
    {
     "name": "stderr",
     "output_type": "stream",
     "text": [
      "Downloading: \"https://cvg-data.inf.ethz.ch/openscene/models/scannet_openseg.pth.tar\" to /root/.cache/torch/hub/checkpoints/scannet_openseg.pth.tar\n"
     ]
    },
    {
     "data": {
      "application/json": {
       "ascii": false,
       "bar_format": null,
       "colour": null,
       "elapsed": 0.015897750854492188,
       "initial": 0,
       "n": 0,
       "ncols": null,
       "nrows": 30,
       "postfix": null,
       "prefix": "",
       "rate": null,
       "total": 187022090,
       "unit": "B",
       "unit_divisor": 1024,
       "unit_scale": true
      },
      "application/vnd.jupyter.widget-view+json": {
       "model_id": "a7b879ec34a544b5a58d293cbc198a9e",
       "version_major": 2,
       "version_minor": 0
      },
      "text/plain": [
       "  0%|          | 0.00/178M [00:00<?, ?B/s]"
      ]
     },
     "metadata": {},
     "output_type": "display_data"
    },
    {
     "data": {
      "text/plain": [
       "<All keys matched successfully>"
      ]
     },
     "execution_count": 6,
     "metadata": {},
     "output_type": "execute_result"
    }
   ],
   "source": [
    "model_path = 'https://cvg-data.inf.ethz.ch/openscene/models/scannet_openseg.pth.tar'\n",
    "model = DisNet()\n",
    "model = model.cuda()\n",
    "checkpoint = model_zoo.load_url(model_path, progress=True)\n",
    "model.load_state_dict(checkpoint['state_dict'], strict=True)"
   ]
  },
  {
   "cell_type": "code",
   "execution_count": 7,
   "id": "fc56cf7d",
   "metadata": {},
   "outputs": [],
   "source": [
    "#DATA_ROOT = \"/mnt/project/AT3DCV_Data/Preprocessed_OpenScene/data/scannet_3d\"\n",
    "#DATA_ROOT_FUSED = \"/mnt/project/AT3DCV_Data/Preprocessed_OpenScene/data/scannet_example_fused\"\n",
    "#SAVE_FOLDER = \"/mnt/project/AT3DCV_Data/3D_features\"\n",
    "\n",
    "#for augmented\n",
    "DATA_ROOT = \"/mnt/project/AT3DCV_Data/Preprocessed_OpenScene/data/augmented/birds_new/scannet_3d\"\n",
    "DATA_ROOT_FUSED = \"/mnt/project/AT3DCV_Data/Preprocessed_OpenScene/data/augmented/birds_new/fused\"\n",
    "SAVE_FOLDER = \"/mnt/project/AT3DCV_Data/Preprocessed_OpenScene/data/augmented/birds_new/features_3D\"\n",
    "\n",
    "\n",
    "INPUT_COLOR = False\n",
    "BATCH_SIZE = 1\n",
    "VOXEL_SIZE = 0.02\n",
    "FEATURE_TYPE = \"distill\"\n",
    "SAVE_FEATURES_AS_NUMPY = True\n",
    "TEST_REPEATS = 5"
   ]
  },
  {
   "cell_type": "code",
   "execution_count": 8,
   "id": "196571cc",
   "metadata": {},
   "outputs": [],
   "source": [
    "global logger\n",
    "logger = get_logger()"
   ]
  },
  {
   "cell_type": "code",
   "execution_count": 9,
   "id": "01da0812",
   "metadata": {},
   "outputs": [],
   "source": [
    "data_paths = sorted(glob(join(DATA_ROOT, \"example\", '*.pth')))"
   ]
  },
  {
   "cell_type": "code",
   "execution_count": 10,
   "id": "47853237",
   "metadata": {},
   "outputs": [
    {
     "data": {
      "text/plain": [
       "['/mnt/project/AT3DCV_Data/Preprocessed_OpenScene/data/augmented/birds_new/scannet_3d/example/scene0024_00_vh_clean_2.pth']"
      ]
     },
     "execution_count": 10,
     "metadata": {},
     "output_type": "execute_result"
    }
   ],
   "source": [
    "data_paths"
   ]
  },
  {
   "cell_type": "code",
   "execution_count": 11,
   "id": "f830eed7",
   "metadata": {},
   "outputs": [
    {
     "data": {
      "text/plain": [
       "'scannet_3d'"
      ]
     },
     "execution_count": 11,
     "metadata": {},
     "output_type": "execute_result"
    }
   ],
   "source": [
    "DATA_ROOT.split('/')[-1]"
   ]
  },
  {
   "cell_type": "code",
   "execution_count": 12,
   "id": "d4c8aa9a",
   "metadata": {},
   "outputs": [],
   "source": [
    "from dataset.feature_loader import FusedFeatureLoader, collation_fn_eval_all\n",
    "\n",
    "val_data = FusedFeatureLoader(datapath_prefix = DATA_ROOT,\n",
    "                            datapath_prefix_feat = DATA_ROOT_FUSED,\n",
    "                            voxel_size = VOXEL_SIZE, \n",
    "                            split = \"example\", aug = False,\n",
    "                            memcache_init = False, eval_all = True, identifier=6797,\n",
    "                            input_color = INPUT_COLOR)\n",
    "val_sampler = None\n",
    "val_loader = torch.utils.data.DataLoader(val_data, batch_size = BATCH_SIZE,\n",
    "                                            shuffle = False, num_workers = 4, pin_memory = True,\n",
    "                                            drop_last = False, collate_fn = collation_fn_eval_all,\n",
    "                                            sampler = val_sampler)\n"
   ]
  },
  {
   "cell_type": "code",
   "execution_count": 13,
   "id": "e9db6040",
   "metadata": {},
   "outputs": [],
   "source": [
    "labelset_name = DATA_ROOT.split('/')[-1]"
   ]
  },
  {
   "cell_type": "code",
   "execution_count": 14,
   "id": "e2592ee6",
   "metadata": {},
   "outputs": [
    {
     "data": {
      "text/plain": [
       "'scannet_3d'"
      ]
     },
     "execution_count": 14,
     "metadata": {},
     "output_type": "execute_result"
    }
   ],
   "source": [
    "labelset_name"
   ]
  },
  {
   "cell_type": "code",
   "execution_count": 15,
   "id": "d1da1401",
   "metadata": {},
   "outputs": [
    {
     "data": {
      "text/plain": [
       "'\\ntorch.backends.cudnn.enabled = False\\n\\nif not os.path.exists(SAVE_FOLDER):\\n    os.makedirs(SAVE_FOLDER, exist_ok=True)\\n\\n\\nif SAVE_FEATURES_AS_NUMPY: # save point features to folder\\n    out_root = os.path.commonprefix([SAVE_FOLDER, \"model\"])\\n    saved_feature_folder = os.path.join(out_root, \\'saved_feature\\')\\n    os.makedirs(saved_feature_folder, exist_ok=True)\\n'"
      ]
     },
     "execution_count": 15,
     "metadata": {},
     "output_type": "execute_result"
    }
   ],
   "source": [
    "# not necessary, if you already have a folder ready on the SAVE_FOLDER path\n",
    "\"\"\"\n",
    "torch.backends.cudnn.enabled = False\n",
    "\n",
    "if not os.path.exists(SAVE_FOLDER):\n",
    "    os.makedirs(SAVE_FOLDER, exist_ok=True)\n",
    "\n",
    "\n",
    "if SAVE_FEATURES_AS_NUMPY: # save point features to folder\n",
    "    out_root = os.path.commonprefix([SAVE_FOLDER, \"model\"])\n",
    "    saved_feature_folder = os.path.join(out_root, 'saved_feature')\n",
    "    os.makedirs(saved_feature_folder, exist_ok=True)\n",
    "\"\"\"\n",
    "\n"
   ]
  },
  {
   "cell_type": "code",
   "execution_count": 16,
   "id": "576faaa3",
   "metadata": {},
   "outputs": [
    {
     "name": "stdout",
     "output_type": "stream",
     "text": [
      "Use prompt engineering: a XX in a scene\n",
      "Loading CLIP ViT-L/14@336px model...\n",
      "Finish loading\n"
     ]
    }
   ],
   "source": [
    "text_features, labelset, mapper, palette = precompute_text_related_properties(labelset_name)"
   ]
  },
  {
   "cell_type": "code",
   "execution_count": 17,
   "id": "7edafaa4",
   "metadata": {},
   "outputs": [
    {
     "name": "stderr",
     "output_type": "stream",
     "text": [
      "[2023-07-19 15:31:54,652 2931514810.py line 7] \n",
      "Evaluation 1 out of 5 runs...\n",
      "\n",
      "  0%|                                                                                             | 0/1 [00:00<?, ?it/s]"
     ]
    },
    {
     "name": "stdout",
     "output_type": "stream",
     "text": [
      "scene0024_00_vh_clean_2\n"
     ]
    },
    {
     "name": "stderr",
     "output_type": "stream",
     "text": [
      "100%|█████████████████████████████████████████████████████████████████████████████████████| 1/1 [00:03<00:00,  3.17s/it]\n",
      "[2023-07-19 15:31:57,822 2931514810.py line 7] \n",
      "Evaluation 2 out of 5 runs...\n",
      "\n",
      "  0%|                                                                                             | 0/1 [00:00<?, ?it/s]"
     ]
    },
    {
     "name": "stdout",
     "output_type": "stream",
     "text": [
      "scene0024_00_vh_clean_2\n"
     ]
    },
    {
     "name": "stderr",
     "output_type": "stream",
     "text": [
      "100%|█████████████████████████████████████████████████████████████████████████████████████| 1/1 [00:03<00:00,  3.68s/it]\n",
      "[2023-07-19 15:32:01,507 2931514810.py line 7] \n",
      "Evaluation 3 out of 5 runs...\n",
      "\n",
      "  0%|                                                                                             | 0/1 [00:00<?, ?it/s]"
     ]
    },
    {
     "name": "stdout",
     "output_type": "stream",
     "text": [
      "scene0024_00_vh_clean_2\n"
     ]
    },
    {
     "name": "stderr",
     "output_type": "stream",
     "text": [
      "100%|█████████████████████████████████████████████████████████████████████████████████████| 1/1 [00:02<00:00,  2.79s/it]\n",
      "[2023-07-19 15:32:04,299 2931514810.py line 7] \n",
      "Evaluation 4 out of 5 runs...\n",
      "\n",
      "  0%|                                                                                             | 0/1 [00:00<?, ?it/s]"
     ]
    },
    {
     "name": "stdout",
     "output_type": "stream",
     "text": [
      "scene0024_00_vh_clean_2\n"
     ]
    },
    {
     "name": "stderr",
     "output_type": "stream",
     "text": [
      "100%|█████████████████████████████████████████████████████████████████████████████████████| 1/1 [00:02<00:00,  2.88s/it]\n",
      "[2023-07-19 15:32:07,183 2931514810.py line 7] \n",
      "Evaluation 5 out of 5 runs...\n",
      "\n",
      "  0%|                                                                                             | 0/1 [00:00<?, ?it/s]"
     ]
    },
    {
     "name": "stdout",
     "output_type": "stream",
     "text": [
      "scene0024_00_vh_clean_2\n"
     ]
    },
    {
     "name": "stderr",
     "output_type": "stream",
     "text": [
      "100%|█████████████████████████████████████████████████████████████████████████████████████| 1/1 [00:02<00:00,  2.79s/it]\n"
     ]
    }
   ],
   "source": [
    "with torch.no_grad():\n",
    "    model.eval()\n",
    "    store = 0.0\n",
    "    for rep_i in range(TEST_REPEATS):\n",
    "        preds, gts = [], []\n",
    "        val_loader.dataset.offset = rep_i\n",
    "        logger.info(\"\\nEvaluation {} out of {} runs...\\n\".format(rep_i+1, TEST_REPEATS))\n",
    "        if rep_i>0:\n",
    "            seed = np.random.randint(10000)\n",
    "            random.seed(seed)\n",
    "            np.random.seed(seed)\n",
    "            torch.manual_seed(seed)\n",
    "            torch.cuda.manual_seed(seed)\n",
    "            torch.cuda.manual_seed_all(seed)\n",
    "            \n",
    "        for i, (coords, feat, label, feat_3d, mask, inds_reverse) in enumerate(tqdm(val_loader)):\n",
    "            sinput = SparseTensor(feat.cuda(non_blocking=True), coords.cuda(non_blocking=True))\n",
    "            coords = coords[inds_reverse, :]\n",
    "            pcl = coords[:, 1:].cpu().numpy()\n",
    "            \n",
    "            predictions = model(sinput)\n",
    "            predictions = predictions[inds_reverse, :]\n",
    "            pred = predictions.half() @ text_features.t()\n",
    "            logits_pred = torch.max(pred, 1)[1].cpu()\n",
    "            \n",
    "            scene_name = val_loader.dataset.data_paths[i].split('/')[-1].split('.pth')[0]\n",
    "            print(scene_name)\n",
    "            np.save(os.path.join(SAVE_FOLDER, '{}_openscene_feat_{}.npy'.format(scene_name,\"distill\")), predictions.cpu().numpy())\n",
    "                "
   ]
  },
  {
   "cell_type": "code",
   "execution_count": null,
   "id": "2ee5e30a",
   "metadata": {},
   "outputs": [],
   "source": []
  }
 ],
 "metadata": {
  "kernelspec": {
   "display_name": "Python 3 (ipykernel)",
   "language": "python",
   "name": "python3"
  },
  "language_info": {
   "codemirror_mode": {
    "name": "ipython",
    "version": 3
   },
   "file_extension": ".py",
   "mimetype": "text/x-python",
   "name": "python",
   "nbconvert_exporter": "python",
   "pygments_lexer": "ipython3",
   "version": "3.7.13"
  }
 },
 "nbformat": 4,
 "nbformat_minor": 5
}
