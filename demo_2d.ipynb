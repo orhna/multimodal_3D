{
 "cells": [
  {
   "cell_type": "code",
   "execution_count": 1,
   "id": "e37317be",
   "metadata": {},
   "outputs": [
    {
     "name": "stdout",
     "output_type": "stream",
     "text": [
      "Jupyter environment detected. Enabling Open3D WebVisualizer.\n",
      "[Open3D INFO] WebRTC GUI backend enabled.\n",
      "[Open3D INFO] WebRTCWindowSystem: HTTP handshake server disabled.\n"
     ]
    }
   ],
   "source": [
    "import os\n",
    "import torch\n",
    "import numpy as np\n",
    "from glob import glob\n",
    "from tqdm import tqdm\n",
    "from os.path import join, exists\n",
    "import open3d as o3d\n",
    "import matplotlib.pyplot as plt"
   ]
  },
  {
   "cell_type": "code",
   "execution_count": 2,
   "id": "d14cb79f",
   "metadata": {},
   "outputs": [],
   "source": [
    "# should be the preprocessed file path\n",
    "sample_path_0 = \"/mnt/project/AT3DCV_Data/Preprocessed_OpenScene/data/augmented/deathwing/scannet_3d/example/scene0000_00_vh_clean_2.pth\"\n",
    "#sample_path_1 = \"D:/AT3DCV_Data/Preprocessed_OpenScene/data/scannet_3d/train/scene0000_01_vh_clean_2.pth\"\n",
    "#sample_path_2 = \"D:/AT3DCV_Data/Preprocessed_OpenScene/data/scannet_3d/train/scene0000_02_vh_clean_2.pth\""
   ]
  },
  {
   "cell_type": "code",
   "execution_count": 3,
   "id": "5de5eb92",
   "metadata": {},
   "outputs": [],
   "source": [
    "sample_0 = torch.load(sample_path_0) # coords,colors,labels\n",
    "#sample_1 = torch.load(sample_path_1) # coords,colors,labels\n",
    "#sample_2 = torch.load(sample_path_2) # coords,colors,labels"
   ]
  },
  {
   "cell_type": "code",
   "execution_count": 4,
   "id": "64d69828",
   "metadata": {},
   "outputs": [
    {
     "data": {
      "text/plain": [
       "82936"
      ]
     },
     "execution_count": 4,
     "metadata": {},
     "output_type": "execute_result"
    }
   ],
   "source": [
    "len(sample_0[0])"
   ]
  },
  {
   "cell_type": "code",
   "execution_count": 5,
   "id": "5d643bcd",
   "metadata": {},
   "outputs": [],
   "source": [
    "# aggregating all of the partial point clouds of the same scene (they don't overlap perfectly)\n",
    "#sample_points = np.concatenate((sample_0[0], sample_1[0], sample_2[0]))\n",
    "#sample_colors = np.concatenate((sample_0[1], sample_1[1], sample_2[1]))\n",
    "\n",
    "# single partial point cloud\n",
    "sample_points  = sample_0[0]\n",
    "sample_colors = sample_0[1]\n",
    "sample_labels = sample_0[2]"
   ]
  },
  {
   "cell_type": "code",
   "execution_count": 6,
   "id": "f6663b29",
   "metadata": {},
   "outputs": [],
   "source": [
    "#to view original scene\n",
    "pcd = o3d.geometry.PointCloud()\n",
    "pcd.points = o3d.utility.Vector3dVector(np.asarray(sample_points))\n",
    "#original colors\n",
    "pcd.colors = o3d.utility.Vector3dVector(np.asarray(sample_colors))\n",
    "#------\n",
    "#paint uniform\n",
    "#sample_paint_uniform = np.asarray([200,200,200])/255.0 #redish\n",
    "#pcd.paint_uniform_color(sample_paint_uniform)\n",
    "o3d.visualization.draw_geometries([pcd])"
   ]
  },
  {
   "cell_type": "markdown",
   "id": "e5135af0",
   "metadata": {},
   "source": [
    "# load fused features"
   ]
  },
  {
   "cell_type": "code",
   "execution_count": 7,
   "id": "212cf156",
   "metadata": {},
   "outputs": [],
   "source": [
    "# should be the fused feature path\n",
    "feature_path = \"/mnt/project/AT3DCV_Data/Preprocessed_OpenScene/data/augmented/deathwing/fused/scene0000_00_0.pt\""
   ]
  },
  {
   "cell_type": "code",
   "execution_count": 8,
   "id": "bc7f5bfd",
   "metadata": {},
   "outputs": [],
   "source": [
    "feature = torch.load(feature_path)"
   ]
  },
  {
   "cell_type": "code",
   "execution_count": 9,
   "id": "b12fcc98",
   "metadata": {},
   "outputs": [
    {
     "data": {
      "text/plain": [
       "torch.Size([82936])"
      ]
     },
     "execution_count": 9,
     "metadata": {},
     "output_type": "execute_result"
    }
   ],
   "source": [
    "feature[\"mask_full\"].shape"
   ]
  },
  {
   "cell_type": "code",
   "execution_count": 10,
   "id": "9f474ddc",
   "metadata": {},
   "outputs": [
    {
     "data": {
      "text/plain": [
       "torch.Size([79248, 768])"
      ]
     },
     "execution_count": 10,
     "metadata": {},
     "output_type": "execute_result"
    }
   ],
   "source": [
    "feature[\"feat\"].shape"
   ]
  },
  {
   "cell_type": "code",
   "execution_count": 11,
   "id": "18fc2d82",
   "metadata": {},
   "outputs": [],
   "source": [
    "# Get the indices where the mask is True\n",
    "indices = torch.nonzero(feature[\"mask_full\"]).squeeze()"
   ]
  },
  {
   "cell_type": "code",
   "execution_count": 12,
   "id": "65077247",
   "metadata": {},
   "outputs": [],
   "source": [
    "filtered_point_cloud = sample_points[indices, :]\n",
    "filtered_point_cloud_colors = sample_colors[indices, :]\n",
    "filtered_point_cloud_labels = sample_labels[indices]"
   ]
  },
  {
   "cell_type": "code",
   "execution_count": 13,
   "id": "aafeeff6",
   "metadata": {},
   "outputs": [],
   "source": [
    "# Replace every occurrence of 21 with 20 if necessary\n",
    "gt_ids= np.where(filtered_point_cloud_labels == 21.0, 20.0, filtered_point_cloud_labels)"
   ]
  },
  {
   "cell_type": "code",
   "execution_count": 14,
   "id": "5798734e",
   "metadata": {},
   "outputs": [
    {
     "data": {
      "text/plain": [
       "(79248, 3)"
      ]
     },
     "execution_count": 14,
     "metadata": {},
     "output_type": "execute_result"
    }
   ],
   "source": [
    "filtered_point_cloud.shape"
   ]
  },
  {
   "cell_type": "markdown",
   "id": "7afd5dbb",
   "metadata": {},
   "source": [
    "# using clip model"
   ]
  },
  {
   "cell_type": "code",
   "execution_count": 15,
   "id": "0a01ad33",
   "metadata": {},
   "outputs": [],
   "source": [
    "import clip\n",
    "model, preprocess = clip.load(\"ViT-L/14@336px\")"
   ]
  },
  {
   "cell_type": "code",
   "execution_count": 45,
   "id": "f56a8260",
   "metadata": {},
   "outputs": [
    {
     "name": "stderr",
     "output_type": "stream",
     "text": [
      "100%|█████████████████████████████████████████████████████████████████████████████████████| 1/1 [00:00<00:00, 65.22it/s]\n"
     ]
    }
   ],
   "source": [
    "# highlight with a threshold\n",
    "# type the query here \n",
    "query = [\"dragon\"]\n",
    "\n",
    "with torch.no_grad():\n",
    "    all_text_embeddings = []\n",
    "    for category in tqdm(query):\n",
    "        texts = clip.tokenize(category)  #tokenize\n",
    "        texts = texts.cuda()\n",
    "        text_embeddings = model.encode_text(texts)  #embed with text encoder\n",
    "        text_embeddings /= text_embeddings.norm(dim=-1, keepdim=True)\n",
    "        text_embedding = text_embeddings.mean(dim=0)\n",
    "        text_embedding /= text_embedding.norm()\n",
    "        all_text_embeddings.append(text_embedding)\n",
    "\n",
    "    all_text_embeddings = torch.stack(all_text_embeddings, dim=1)\n",
    "\n",
    "# normalizing \n",
    "fused_f = (feature[\"feat\"]/(feature[\"feat\"].norm(dim=-1, keepdim=True)+1e-5)).half()\n",
    "# calculating similarity matrix\n",
    "# similarity_matrix = torch.matmul(feature[\"feat\"].cuda(), all_text_embeddings) # \n",
    "similarity_matrix = fused_f.cuda() @ all_text_embeddings    \n",
    "    \n",
    "# set higher to increase the certainty (not always correct)\n",
    "threshold_percentage = 0.9\n",
    "cap = similarity_matrix.max().item()\n",
    "found_indices = torch.nonzero(similarity_matrix > cap*threshold_percentage, as_tuple=False).squeeze().T[0]\n",
    "\n",
    "# creating pc\n",
    "pcd = o3d.geometry.PointCloud()\n",
    "pcd.points = o3d.utility.Vector3dVector(np.asarray(filtered_point_cloud))\n",
    "pcd.colors = o3d.utility.Vector3dVector(np.asarray(filtered_point_cloud_colors))\n",
    "\n",
    "found_region = pcd.select_by_index(found_indices.tolist())\n",
    "found_region.paint_uniform_color([1.0, 0, 0]) # paint related points to red\n",
    "rest = pcd.select_by_index(found_indices.tolist(), invert=True)\n",
    "o3d.visualization.draw_geometries([rest,found_region])"
   ]
  },
  {
   "cell_type": "code",
   "execution_count": 55,
   "id": "4a3778aa",
   "metadata": {},
   "outputs": [
    {
     "name": "stderr",
     "output_type": "stream",
     "text": [
      "100%|█████████████████████████████████████████████████████████████████████████████████████| 1/1 [00:00<00:00, 44.88it/s]\n"
     ]
    }
   ],
   "source": [
    "# highlight with a heatmap\n",
    "# type the query here \n",
    "query = [\"deathwing\"]\n",
    "\n",
    "with torch.no_grad():\n",
    "    all_text_embeddings = []\n",
    "    for category in tqdm(query):\n",
    "        texts = clip.tokenize(category)  #tokenize\n",
    "        texts = texts.cuda()\n",
    "        text_embeddings = model.encode_text(texts)  #embed with text encoder\n",
    "        text_embeddings /= text_embeddings.norm(dim=-1, keepdim=True)\n",
    "        text_embedding = text_embeddings.mean(dim=0)\n",
    "        text_embedding /= text_embedding.norm()\n",
    "        all_text_embeddings.append(text_embedding)\n",
    "\n",
    "    all_text_embeddings = torch.stack(all_text_embeddings, dim=1)\n",
    "\n",
    "# normalizing \n",
    "fused_f = (feature[\"feat\"]/(feature[\"feat\"].norm(dim=-1, keepdim=True)+1e-5)).half()\n",
    "# calculating similarity matrix\n",
    "# similarity_matrix = torch.matmul(feature[\"feat\"].cuda(), all_text_embeddings) # \n",
    "similarity_matrix = fused_f.cuda() @ all_text_embeddings    \n",
    "\n",
    "# creating pc\n",
    "pcd = o3d.geometry.PointCloud()\n",
    "pcd.points = o3d.utility.Vector3dVector(np.asarray(filtered_point_cloud))\n",
    "pcd.colors = o3d.utility.Vector3dVector(np.asarray(filtered_point_cloud_colors))\n",
    "\n",
    "# heatmap\n",
    "cmap = plt.get_cmap('cividis')\n",
    "\n",
    "# normalize the tensor to the range [0, 1]\n",
    "normalized_tensor = (similarity_matrix - torch.min(similarity_matrix)) / (torch.max(similarity_matrix) - torch.min(similarity_matrix))\n",
    "\n",
    "colors = cmap(normalized_tensor.detach().cpu().numpy().squeeze())\n",
    "pcd_heatmap = o3d.geometry.PointCloud()\n",
    "\n",
    "pcd_heatmap.points = o3d.utility.Vector3dVector(pcd.points)\n",
    "pcd_heatmap.colors = o3d.utility.Vector3dVector(colors[:, :3])\n",
    "\n",
    "#transform heatmap to the side\n",
    "pcd_heatmap.points = o3d.utility.Vector3dVector(np.asarray(pcd.points) + [0,10,0])\n",
    "\n",
    "o3d.visualization.draw_geometries([pcd, pcd_heatmap])"
   ]
  },
  {
   "cell_type": "markdown",
   "id": "aad4a00d",
   "metadata": {},
   "source": [
    "# mIoU evaluation"
   ]
  },
  {
   "cell_type": "code",
   "execution_count": 56,
   "id": "d90b706c",
   "metadata": {},
   "outputs": [],
   "source": [
    "SCANNET_LABELS_20 = ['wall', 'floor', 'cabinet', 'bed', 'chair', 'sofa',\n",
    "                     'table', 'door', 'window', 'bookshelf', 'picture','counter', 'desk', 'curtain', 'refrigerator', 'shower curtain',\n",
    "                     'toilet', 'sink', 'bathtub', 'otherfurniture']\n",
    "UNKNOWN_ID = 255\n",
    "NO_FEATURE_ID = 256\n",
    "\n",
    "SCANNET_LABELS_20.append(query[0])\n",
    "CLASS_LABELS = SCANNET_LABELS_20"
   ]
  },
  {
   "cell_type": "code",
   "execution_count": 57,
   "id": "8a9d1547",
   "metadata": {},
   "outputs": [
    {
     "data": {
      "text/plain": [
       "['wall',\n",
       " 'floor',\n",
       " 'cabinet',\n",
       " 'bed',\n",
       " 'chair',\n",
       " 'sofa',\n",
       " 'table',\n",
       " 'door',\n",
       " 'window',\n",
       " 'bookshelf',\n",
       " 'picture',\n",
       " 'counter',\n",
       " 'desk',\n",
       " 'curtain',\n",
       " 'refrigerator',\n",
       " 'shower curtain',\n",
       " 'toilet',\n",
       " 'sink',\n",
       " 'bathtub',\n",
       " 'otherfurniture',\n",
       " 'dragon red black wings tail claws']"
      ]
     },
     "execution_count": 57,
     "metadata": {},
     "output_type": "execute_result"
    }
   ],
   "source": [
    "CLASS_LABELS"
   ]
  },
  {
   "cell_type": "code",
   "execution_count": 58,
   "id": "9b1fb861",
   "metadata": {},
   "outputs": [
    {
     "name": "stderr",
     "output_type": "stream",
     "text": [
      "100%|███████████████████████████████████████████████████████████████████████████████████| 21/21 [00:00<00:00, 47.36it/s]\n"
     ]
    }
   ],
   "source": [
    "with torch.no_grad():\n",
    "    label_embeds = []\n",
    "    for category in tqdm(SCANNET_LABELS_20):\n",
    "        texts = clip.tokenize(category)  #tokenize\n",
    "        texts = texts.cuda()\n",
    "        text_embeddings = model.encode_text(texts)  #embed with text encoder\n",
    "        text_embeddings /= text_embeddings.norm(dim=-1, keepdim=True)\n",
    "        text_embedding = text_embeddings.mean(dim=0)\n",
    "        text_embedding /= text_embedding.norm()\n",
    "        label_embeds.append(text_embedding)\n",
    "\n",
    "    label_embeds = torch.stack(label_embeds, dim=1)\n"
   ]
  },
  {
   "cell_type": "code",
   "execution_count": 59,
   "id": "2370576a",
   "metadata": {},
   "outputs": [],
   "source": [
    "# calculating similarity matrix\n",
    "similarity_matrix = fused_f.cuda() @ label_embeds    \n",
    "pred_ids = torch.max(similarity_matrix, 1)[1].detach().cpu()"
   ]
  },
  {
   "cell_type": "code",
   "execution_count": 60,
   "id": "7b44247e",
   "metadata": {},
   "outputs": [],
   "source": [
    "def confusion_matrix(pred_ids, gt_ids, num_classes):\n",
    "    '''calculate the confusion matrix.'''\n",
    "\n",
    "    assert pred_ids.shape == gt_ids.shape, (pred_ids.shape, gt_ids.shape)\n",
    "    idxs = gt_ids != UNKNOWN_ID\n",
    "    if NO_FEATURE_ID in pred_ids: # some points have no feature assigned for prediction\n",
    "        pred_ids[pred_ids==NO_FEATURE_ID] = num_classes\n",
    "        confusion = np.bincount(\n",
    "            pred_ids[idxs] * (num_classes+1) + gt_ids[idxs],\n",
    "            minlength=(num_classes+1)**2).reshape((\n",
    "            num_classes+1, num_classes+1)).astype(np.ulonglong)\n",
    "        return confusion[:num_classes, :num_classes]\n",
    "\n",
    "    return np.bincount(\n",
    "        pred_ids[idxs] * num_classes + gt_ids[idxs],\n",
    "        minlength=num_classes**2).reshape((\n",
    "        num_classes, num_classes)).astype(np.ulonglong)\n",
    "\n",
    "def get_iou(label_id, confusion):\n",
    "    '''calculate IoU.'''\n",
    "\n",
    "    # true positives\n",
    "    tp = np.longlong(confusion[label_id, label_id])\n",
    "    # false positives\n",
    "    fp = np.longlong(confusion[label_id, :].sum()) - tp\n",
    "    # false negatives\n",
    "    fn = np.longlong(confusion[:, label_id].sum()) - tp\n",
    "\n",
    "    denom = (tp + fp + fn)\n",
    "    if denom == 0:\n",
    "        return float('nan')\n",
    "    return float(tp) / denom, tp, denom"
   ]
  },
  {
   "cell_type": "code",
   "execution_count": 61,
   "id": "26988177",
   "metadata": {},
   "outputs": [],
   "source": [
    "N_CLASSES = len(CLASS_LABELS)\n",
    "confusion = confusion_matrix(pred_ids, gt_ids, N_CLASSES)\n",
    "class_ious = {}\n",
    "class_accs = {}\n",
    "mean_iou = 0\n",
    "mean_acc = 0"
   ]
  },
  {
   "cell_type": "code",
   "execution_count": 62,
   "id": "3a491b16",
   "metadata": {},
   "outputs": [],
   "source": [
    "count = 0\n",
    "for i in range(N_CLASSES):\n",
    "    label_name = CLASS_LABELS[i]\n",
    "    if (gt_ids==i).sum() == 0: # at least 1 point needs to be in the evaluation for this class\n",
    "        continue\n",
    "\n",
    "    class_ious[label_name] = get_iou(i, confusion)\n",
    "    class_accs[label_name] = class_ious[label_name][1] / (gt_ids==i).sum()\n",
    "    count+=1\n",
    "\n",
    "    mean_iou += class_ious[label_name][0]\n",
    "    mean_acc += class_accs[label_name]\n"
   ]
  },
  {
   "cell_type": "code",
   "execution_count": 63,
   "id": "8f46df68",
   "metadata": {},
   "outputs": [],
   "source": [
    "mean_iou /= N_CLASSES\n",
    "mean_acc /= N_CLASSES"
   ]
  },
  {
   "cell_type": "code",
   "execution_count": 64,
   "id": "d45e721e",
   "metadata": {},
   "outputs": [
    {
     "name": "stdout",
     "output_type": "stream",
     "text": [
      "classes          IoU\n",
      "----------------------------\n",
      "wall          : 0.59753   (  8078/13519 )\n",
      "floor         : 0.80171   (  8353/10419 )\n",
      "cabinet       : 0.50060   (  5863/11712 )\n",
      "bed           : 0.87822   (  2798/3186  )\n",
      "chair error!\n",
      "sofa          : 0.79371   (  4571/5759  )\n",
      "table         : 0.15513   (   955/6156  )\n",
      "door          : 0.26407   (  1286/4870  )\n",
      "window        : 0.65814   (   566/860   )\n",
      "bookshelf error!\n",
      "picture error!\n",
      "counter       : 0.15548   (   301/1936  )\n",
      "desk          : 0.01666   (    32/1921  )\n",
      "curtain       : 0.67594   (  4956/7332  )\n",
      "refrigerator  : 0.66776   (  1017/1523  )\n",
      "shower curtain error!\n",
      "toilet        : 0.46035   (   418/908   )\n",
      "sink          : 0.26351   (   156/592   )\n",
      "bathtub error!\n",
      "otherfurniture: 0.01622   (    66/4068  )\n",
      "dragon red black wings tail claws: 0.76643   (  1201/1567  )\n"
     ]
    }
   ],
   "source": [
    "print('classes          IoU')\n",
    "print('----------------------------')\n",
    "for i in range(N_CLASSES):\n",
    "    label_name = CLASS_LABELS[i]\n",
    "    try:\n",
    "        print('{0:<14s}: {1:>5.5f}   ({2:>6d}/{3:<6d})'.format(\n",
    "                label_name,\n",
    "                class_ious[label_name][0],\n",
    "                class_ious[label_name][1],\n",
    "                class_ious[label_name][2]))\n",
    "    except:\n",
    "        print(label_name + ' error!')\n",
    "        continue"
   ]
  },
  {
   "cell_type": "code",
   "execution_count": null,
   "id": "52ae912d",
   "metadata": {},
   "outputs": [],
   "source": []
  }
 ],
 "metadata": {
  "kernelspec": {
   "display_name": "Python 3 (ipykernel)",
   "language": "python",
   "name": "python3"
  },
  "language_info": {
   "codemirror_mode": {
    "name": "ipython",
    "version": 3
   },
   "file_extension": ".py",
   "mimetype": "text/x-python",
   "name": "python",
   "nbconvert_exporter": "python",
   "pygments_lexer": "ipython3",
   "version": "3.7.13"
  }
 },
 "nbformat": 4,
 "nbformat_minor": 5
}
